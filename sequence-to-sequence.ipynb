{
 "cells": [
  {
   "cell_type": "markdown",
   "source": [
    "# Machine translation using a Decoder-Encoder architecture"
   ],
   "metadata": {
    "collapsed": false
   }
  },
  {
   "cell_type": "code",
   "execution_count": 9,
   "outputs": [
    {
     "name": "stdout",
     "output_type": "stream",
     "text": [
      "--2023-05-16 09:43:13--  https://storage.googleapis.com/download.tensorflow.org/data/spa-eng.zip\r\n",
      "Resolving storage.googleapis.com (storage.googleapis.com)... 142.250.180.144, 142.250.180.176, 142.251.209.16, ...\r\n",
      "Connecting to storage.googleapis.com (storage.googleapis.com)|142.250.180.144|:443... connected.\r\n",
      "HTTP request sent, awaiting response... 200 OK\r\n",
      "Length: 2638744 (2.5M) [application/zip]\r\n",
      "Saving to: ‘spa-eng.zip’\r\n",
      "\r\n",
      "spa-eng.zip         100%[===================>]   2.52M  2.40MB/s    in 1.0s    \r\n",
      "\r\n",
      "2023-05-16 09:43:14 (2.40 MB/s) - ‘spa-eng.zip’ saved [2638744/2638744]\r\n",
      "\r\n"
     ]
    }
   ],
   "source": [
    "# download the dataset\n",
    "!wget https://storage.googleapis.com/download.tensorflow.org/data/spa-eng.zip\n",
    "!unzip -q spa-eng.zip"
   ],
   "metadata": {
    "collapsed": false,
    "ExecuteTime": {
     "end_time": "2023-05-16T07:43:14.806669425Z",
     "start_time": "2023-05-16T07:43:13.057310736Z"
    }
   }
  },
  {
   "cell_type": "markdown",
   "source": [
    "## Data preparation"
   ],
   "metadata": {
    "collapsed": false
   }
  },
  {
   "cell_type": "code",
   "execution_count": 1,
   "outputs": [],
   "source": [
    "text_file = \"spa-eng/spa.txt\"\n",
    "with open(text_file) as f:\n",
    "    lines = f.read().split(\"\\n\")[:-1]\n",
    "text_pairs = []"
   ],
   "metadata": {
    "collapsed": false,
    "ExecuteTime": {
     "end_time": "2023-05-20T06:32:49.043954237Z",
     "start_time": "2023-05-20T06:32:48.992191277Z"
    }
   }
  },
  {
   "cell_type": "code",
   "execution_count": 2,
   "outputs": [],
   "source": [
    "for line in lines:\n",
    "    english, spanish = line.split(\"\\t\")\n",
    "    spanish = \"[start] \" + spanish + \" [end]\"\n",
    "    text_pairs.append((english, spanish))"
   ],
   "metadata": {
    "collapsed": false,
    "ExecuteTime": {
     "end_time": "2023-05-20T06:32:49.210553527Z",
     "start_time": "2023-05-20T06:32:49.047462111Z"
    }
   }
  },
  {
   "cell_type": "code",
   "execution_count": 3,
   "outputs": [
    {
     "name": "stdout",
     "output_type": "stream",
     "text": [
      "('He married my sister.', '[start] Él se casó con mi hermana. [end]')\n"
     ]
    }
   ],
   "source": [
    "import random\n",
    "print(random.choice(text_pairs))"
   ],
   "metadata": {
    "collapsed": false,
    "ExecuteTime": {
     "end_time": "2023-05-20T06:32:49.211114370Z",
     "start_time": "2023-05-20T06:32:49.185938450Z"
    }
   }
  },
  {
   "cell_type": "code",
   "execution_count": 4,
   "outputs": [],
   "source": [
    "import random\n",
    "random.shuffle(text_pairs)\n",
    "num_val_samples = int(0.15 * len(text_pairs))\n",
    "num_train_samples = len(text_pairs) - 2 * num_val_samples\n",
    "train_pairs = text_pairs[:num_train_samples]\n",
    "val_pairs = text_pairs[num_train_samples:num_train_samples + num_val_samples]\n",
    "test_pairs = text_pairs[num_train_samples + num_val_samples:num_train_samples + num_val_samples + 3000]"
   ],
   "metadata": {
    "collapsed": false,
    "ExecuteTime": {
     "end_time": "2023-05-20T06:32:49.303134786Z",
     "start_time": "2023-05-20T06:32:49.198745600Z"
    }
   }
  },
  {
   "cell_type": "code",
   "execution_count": 5,
   "outputs": [
    {
     "name": "stderr",
     "output_type": "stream",
     "text": [
      "2023-05-20 08:32:49.773790: E tensorflow/core/lib/monitoring/collection_registry.cc:77] Cannot register 2 metrics with the same name: /tensorflow/core/saved_model/write/count\n",
      "2023-05-20 08:32:49.773866: E tensorflow/core/lib/monitoring/collection_registry.cc:77] Cannot register 2 metrics with the same name: /tensorflow/core/saved_model/read/count\n",
      "2023-05-20 08:32:49.773884: E tensorflow/core/lib/monitoring/collection_registry.cc:77] Cannot register 2 metrics with the same name: /tensorflow/core/saved_model/write/api\n",
      "2023-05-20 08:32:49.773891: E tensorflow/core/lib/monitoring/collection_registry.cc:77] Cannot register 2 metrics with the same name: /tensorflow/core/saved_model/read/api\n",
      "2023-05-20 08:32:52.151670: I tensorflow/core/platform/cpu_feature_guard.cc:142] This TensorFlow binary is optimized with oneAPI Deep Neural Network Library (oneDNN) to use the following CPU instructions in performance-critical operations:  SSE3 SSE4.1 SSE4.2 AVX AVX2 FMA\n",
      "To enable them in other operations, rebuild TensorFlow with the appropriate compiler flags.\n"
     ]
    }
   ],
   "source": [
    "import tensorflow as tf\n",
    "import keras.layers as layers\n",
    "import keras\n",
    "import string\n",
    "import re\n",
    "\n",
    "strip_chars = string.punctuation + \"¿\"\n",
    "strip_chars = strip_chars.replace(\"[\", \"\")\n",
    "strip_chars = strip_chars.replace(\"]\", \"\")\n",
    "\n",
    "def custom_standardization(input_string):\n",
    "    lowercase = tf.strings.lower(input_string)\n",
    "    return tf.strings.regex_replace(lowercase, f\"[{re.escape(strip_chars)}]\", \"\")\n",
    "\n",
    "vocab_size = 15000\n",
    "sequence_length = 20\n",
    "\n",
    "source_vectorization = layers.TextVectorization(\n",
    "    max_tokens=vocab_size,\n",
    "    output_mode=\"int\",\n",
    "    output_sequence_length=sequence_length,\n",
    ")\n",
    "\n",
    "target_vectorization = layers.TextVectorization(\n",
    "    max_tokens=vocab_size,\n",
    "    output_mode=\"int\",\n",
    "    output_sequence_length=sequence_length + 1,\n",
    "    standardize=custom_standardization,\n",
    ")\n",
    "\n",
    "train_english_texts = [pair[0] for pair in train_pairs]\n",
    "train_spanish_texts = [pair[1] for pair in train_pairs]\n",
    "source_vectorization.adapt(train_english_texts)\n",
    "target_vectorization.adapt(train_spanish_texts)"
   ],
   "metadata": {
    "collapsed": false,
    "ExecuteTime": {
     "end_time": "2023-05-20T06:33:41.200418132Z",
     "start_time": "2023-05-20T06:32:49.283606369Z"
    }
   }
  },
  {
   "cell_type": "code",
   "execution_count": 6,
   "outputs": [],
   "source": [
    "batch_size = 64\n",
    "\n",
    "def format_dataset(eng, spa):\n",
    "    eng = source_vectorization(eng)\n",
    "    spa = target_vectorization(spa)\n",
    "    return ({\n",
    "        \"english\": eng,\n",
    "        \"spanish\": spa[:, :-1],\n",
    "    }, spa[:, 1:])\n",
    "\n",
    "def make_dataset(pairs):\n",
    "    eng_texts, spa_texts = zip(*pairs)\n",
    "    eng_texts = list(eng_texts)\n",
    "    spa_texts = list(spa_texts)\n",
    "    dataset = tf.data.Dataset.from_tensor_slices((eng_texts, spa_texts))\n",
    "    dataset = dataset.batch(batch_size)\n",
    "    dataset = dataset.map(format_dataset, num_parallel_calls=4)\n",
    "    return dataset.shuffle(2048).prefetch(16).cache()\n",
    "\n",
    "train_ds = make_dataset(train_pairs)\n",
    "val_ds = make_dataset(val_pairs)"
   ],
   "metadata": {
    "collapsed": false,
    "ExecuteTime": {
     "end_time": "2023-05-20T06:33:42.102914785Z",
     "start_time": "2023-05-20T06:33:41.200157479Z"
    }
   }
  },
  {
   "cell_type": "code",
   "execution_count": 7,
   "outputs": [
    {
     "name": "stderr",
     "output_type": "stream",
     "text": [
      "2023-05-20 08:33:42.133353: I tensorflow/compiler/mlir/mlir_graph_optimization_pass.cc:164] None of the MLIR Optimization Passes are enabled (registered 2)\n"
     ]
    },
    {
     "name": "stdout",
     "output_type": "stream",
     "text": [
      "inputs['english'].shape: (64, 20)\n",
      "inputs['spanish'].shape: (64, 20)\n",
      "targets.shape: (64, 20)\n"
     ]
    },
    {
     "name": "stderr",
     "output_type": "stream",
     "text": [
      "2023-05-20 08:33:42.498250: W tensorflow/core/kernels/data/cache_dataset_ops.cc:764] The calling iterator did not fully read the dataset being cached. In order to avoid unexpected truncation of the dataset, the partially cached contents of the dataset  will be discarded. This can happen if you have an input pipeline similar to `dataset.cache().take(k).repeat()`. You should use `dataset.take(k).cache().repeat()` instead.\n"
     ]
    }
   ],
   "source": [
    "for inputs, targets in train_ds.take(1):\n",
    "    print(f\"inputs['english'].shape: {inputs['english'].shape}\")\n",
    "    print(f\"inputs['spanish'].shape: {inputs['spanish'].shape}\")\n",
    "    print(f\"targets.shape: {targets.shape}\")"
   ],
   "metadata": {
    "collapsed": false,
    "ExecuteTime": {
     "end_time": "2023-05-20T06:33:42.509232084Z",
     "start_time": "2023-05-20T06:33:42.106312001Z"
    }
   }
  },
  {
   "cell_type": "markdown",
   "source": [
    "## Encoder"
   ],
   "metadata": {
    "collapsed": false
   }
  },
  {
   "cell_type": "code",
   "execution_count": 8,
   "outputs": [],
   "source": [
    "class TransformerEncoder(layers.Layer):\n",
    "    def __init__(self, embed_dim, dense_dim, num_heads, **kwargs):\n",
    "        super().__init__(**kwargs)\n",
    "        self.embed_dim = embed_dim\n",
    "        self.dense_dim = dense_dim\n",
    "        self.num_heads = num_heads\n",
    "        self.attention = layers.MultiHeadAttention(num_heads=num_heads, key_dim=embed_dim)\n",
    "        self.dense_proj = keras.Sequential([layers.Dense(dense_dim, activation=\"relu\"),layers.Dense(embed_dim),])\n",
    "        self.layernorm_1 = layers.LayerNormalization()\n",
    "        self.layernorm_2 = layers.LayerNormalization()\n",
    "\n",
    "    def call(self, inputs, mask=None):\n",
    "        if mask is not None:\n",
    "            mask = mask[:, tf.newaxis, :]\n",
    "        attention_output = self.attention(inputs, inputs, attention_mask=mask)\n",
    "        proj_input = self.layernorm_1(inputs + attention_output)\n",
    "        proj_output = self.dense_proj(proj_input)\n",
    "        return self.layernorm_2(proj_input + proj_output)\n",
    "\n",
    "    def get_config(self):\n",
    "        config = super().get_config()\n",
    "        config.update({\n",
    "            \"embed_dim\": self.embed_dim,\n",
    "            \"num_heads\": self.num_heads,\n",
    "            \"dense_dim\": self.dense_dim,\n",
    "        })\n",
    "        return config\n",
    "\n",
    "\n",
    "class PositionalEmbedding(layers.Layer):\n",
    "    def __init__(self, sequence_length, input_dim, output_dim, **kwargs):\n",
    "        super().__init__(**kwargs)\n",
    "        self.token_embeddings = layers.Embedding(\n",
    "            input_dim=input_dim, output_dim=output_dim)\n",
    "        self.position_embeddings = layers.Embedding(\n",
    "            input_dim=sequence_length, output_dim=output_dim)\n",
    "        self.sequence_length = sequence_length\n",
    "        self.input_dim = input_dim\n",
    "        self.output_dim = output_dim\n",
    "\n",
    "    def call(self, inputs):\n",
    "        length = tf.shape(inputs)[-1]\n",
    "        positions = tf.range(start=0, limit=length, delta=1)\n",
    "        embedded_tokens = self.token_embeddings(inputs)\n",
    "        embedded_positions = self.position_embeddings(positions)\n",
    "        return embedded_tokens + embedded_positions\n",
    "\n",
    "    def compute_mask(self, inputs, mask=None):\n",
    "        return tf.math.not_equal(inputs, 0)\n",
    "\n",
    "    def get_config(self):\n",
    "        config = super().get_config()\n",
    "        config.update({\n",
    "            \"output_dim\": self.output_dim,\n",
    "            \"sequence_length\": self.sequence_length,\n",
    "            \"input_dim\": self.input_dim,\n",
    "        })\n",
    "        return config"
   ],
   "metadata": {
    "collapsed": false,
    "ExecuteTime": {
     "end_time": "2023-05-20T06:33:42.522096634Z",
     "start_time": "2023-05-20T06:33:42.515581311Z"
    }
   }
  },
  {
   "cell_type": "markdown",
   "source": [
    "## Decoder"
   ],
   "metadata": {
    "collapsed": false
   }
  },
  {
   "cell_type": "code",
   "execution_count": 9,
   "outputs": [],
   "source": [
    "class TransformerDecoder(layers.Layer):\n",
    "    def __init__(self, embed_dim, dense_dim, num_heads, **kwargs):\n",
    "        super().__init__(**kwargs)\n",
    "        self.embed_dim = embed_dim\n",
    "        self.dense_dim = dense_dim\n",
    "        self.num_heads = num_heads\n",
    "        self.attention_1 = layers.MultiHeadAttention(\n",
    "            num_heads=num_heads, key_dim=embed_dim)\n",
    "        self.attention_2 = layers.MultiHeadAttention(\n",
    "            num_heads=num_heads, key_dim=embed_dim)\n",
    "        self.dense_proj = keras.Sequential(\n",
    "            [layers.Dense(dense_dim, activation=\"relu\"),\n",
    "            layers.Dense(embed_dim),]\n",
    "        )\n",
    "        self.layernorm_1 = layers.LayerNormalization()\n",
    "        self.layernorm_2 = layers.LayerNormalization()\n",
    "        self.layernorm_3 = layers.LayerNormalization()\n",
    "        self.supports_masking = True\n",
    "\n",
    "    def get_config(self):\n",
    "        config = super().get_config()\n",
    "        config.update({\n",
    "            \"embed_dim\": self.embed_dim,\n",
    "            \"num_heads\": self.num_heads,\n",
    "            \"dense_dim\": self.dense_dim,\n",
    "        })\n",
    "        return config\n",
    "\n",
    "    def get_causal_attention_mask(self, inputs):\n",
    "        input_shape = tf.shape(inputs)\n",
    "        batch_size, sequence_length = input_shape[0], input_shape[1]\n",
    "        i = tf.range(sequence_length)[:, tf.newaxis]\n",
    "        j = tf.range(sequence_length)\n",
    "        mask = tf.cast(i >= j, dtype=\"int32\")\n",
    "        mask = tf.reshape(mask, (1, input_shape[1], input_shape[1]))\n",
    "        mult = tf.concat(\n",
    "             [tf.expand_dims(batch_size, -1),\n",
    "              tf.constant([1, 1], dtype=tf.int32)], axis=0)\n",
    "        return tf.tile(mask, mult)\n",
    "\n",
    "    def call(self, inputs, encoder_outputs, mask=None):\n",
    "        causal_mask = self.get_causal_attention_mask(inputs)\n",
    "        if mask is not None:\n",
    "            padding_mask = tf.cast(mask[:, tf.newaxis, :], dtype=\"int32\")\n",
    "            padding_mask = tf.minimum(padding_mask, causal_mask)\n",
    "        attention_output_1 = self.attention_1(\n",
    "            query=inputs,\n",
    "            value=inputs,\n",
    "            key=inputs,\n",
    "            attention_mask=causal_mask)\n",
    "        attention_output_1 = self.layernorm_1(inputs + attention_output_1)\n",
    "        attention_output_2 = self.attention_2(\n",
    "            query=attention_output_1,\n",
    "            value=encoder_outputs,\n",
    "            key=encoder_outputs,\n",
    "            attention_mask=padding_mask,\n",
    "        )\n",
    "        attention_output_2 = self.layernorm_2(attention_output_1 + attention_output_2)\n",
    "        proj_output = self.dense_proj(attention_output_2)\n",
    "        return self.layernorm_3(attention_output_2 + proj_output)"
   ],
   "metadata": {
    "collapsed": false,
    "ExecuteTime": {
     "end_time": "2023-05-20T06:33:42.563259469Z",
     "start_time": "2023-05-20T06:33:42.522487426Z"
    }
   }
  },
  {
   "cell_type": "markdown",
   "source": [
    "## Encoder-Decoder model"
   ],
   "metadata": {
    "collapsed": false
   }
  },
  {
   "cell_type": "code",
   "execution_count": 10,
   "outputs": [],
   "source": [
    "embed_dim = 256\n",
    "dense_dim = 2048\n",
    "num_heads = 8\n",
    "\n",
    "encoder_inputs = keras.Input(shape=(None,), dtype=\"int64\", name=\"english\")\n",
    "x = PositionalEmbedding(sequence_length, vocab_size, embed_dim)(encoder_inputs)\n",
    "encoder_outputs = TransformerEncoder(embed_dim, dense_dim, num_heads)(x)\n",
    "\n",
    "decoder_inputs = keras.Input(shape=(None,), dtype=\"int64\", name=\"spanish\")\n",
    "x = PositionalEmbedding(sequence_length, vocab_size, embed_dim)(decoder_inputs)\n",
    "x = TransformerDecoder(embed_dim, dense_dim, num_heads)(x, encoder_outputs)\n",
    "x = layers.Dropout(0.5)(x)\n",
    "decoder_outputs = layers.Dense(vocab_size, activation=\"softmax\")(x)\n",
    "transformer = keras.Model([encoder_inputs, decoder_inputs], decoder_outputs)"
   ],
   "metadata": {
    "collapsed": false,
    "ExecuteTime": {
     "end_time": "2023-05-20T06:33:43.416999561Z",
     "start_time": "2023-05-20T06:33:42.536964110Z"
    }
   }
  },
  {
   "cell_type": "code",
   "execution_count": 95,
   "outputs": [
    {
     "name": "stdout",
     "output_type": "stream",
     "text": [
      "Model: \"model\"\n",
      "__________________________________________________________________________________________________\n",
      "Layer (type)                    Output Shape         Param #     Connected to                     \n",
      "==================================================================================================\n",
      "english (InputLayer)            [(None, None)]       0                                            \n",
      "__________________________________________________________________________________________________\n",
      "spanish (InputLayer)            [(None, None)]       0                                            \n",
      "__________________________________________________________________________________________________\n",
      "positional_embedding (Positiona (None, None, 256)    3845120     english[0][0]                    \n",
      "__________________________________________________________________________________________________\n",
      "positional_embedding_1 (Positio (None, None, 256)    3845120     spanish[0][0]                    \n",
      "__________________________________________________________________________________________________\n",
      "transformer_encoder (Transforme (None, None, 256)    3155456     positional_embedding[0][0]       \n",
      "__________________________________________________________________________________________________\n",
      "transformer_decoder (Transforme (None, None, 256)    5259520     positional_embedding_1[0][0]     \n",
      "                                                                 transformer_encoder[0][0]        \n",
      "__________________________________________________________________________________________________\n",
      "dropout (Dropout)               (None, None, 256)    0           transformer_decoder[0][0]        \n",
      "__________________________________________________________________________________________________\n",
      "dense_4 (Dense)                 (None, None, 15000)  3855000     dropout[0][0]                    \n",
      "==================================================================================================\n",
      "Total params: 19,960,216\n",
      "Trainable params: 19,960,216\n",
      "Non-trainable params: 0\n",
      "__________________________________________________________________________________________________\n"
     ]
    }
   ],
   "source": [
    "transformer.summary()"
   ],
   "metadata": {
    "collapsed": false,
    "ExecuteTime": {
     "end_time": "2023-05-22T14:43:10.961523133Z",
     "start_time": "2023-05-22T14:43:10.898111678Z"
    }
   }
  },
  {
   "cell_type": "code",
   "execution_count": 11,
   "outputs": [],
   "source": [
    "callbacks = [\n",
    " tf.keras.callbacks.ModelCheckpoint(\"sequence-to-sequence/transformer.keras\", save_best_only=True),\n",
    "tf.keras.callbacks.EarlyStopping(monitor=\"val_loss\", patience=5, restore_best_weights=True)\n",
    "]"
   ],
   "metadata": {
    "collapsed": false,
    "ExecuteTime": {
     "end_time": "2023-05-20T06:33:43.445153679Z",
     "start_time": "2023-05-20T06:33:43.421351036Z"
    }
   }
  },
  {
   "cell_type": "markdown",
   "source": [
    "## Training"
   ],
   "metadata": {
    "collapsed": false
   }
  },
  {
   "cell_type": "code",
   "execution_count": 12,
   "outputs": [
    {
     "name": "stdout",
     "output_type": "stream",
     "text": [
      "Epoch 1/30\n",
      "1302/1302 [==============================] - 1120s 857ms/step - loss: 1.7305 - accuracy: 0.3981 - val_loss: 1.4263 - val_accuracy: 0.4841\n",
      "Epoch 2/30\n",
      "1302/1302 [==============================] - 1268s 974ms/step - loss: 1.4022 - accuracy: 0.5089 - val_loss: 1.2224 - val_accuracy: 0.5488\n",
      "Epoch 3/30\n",
      "1302/1302 [==============================] - 2093s 2s/step - loss: 1.2438 - accuracy: 0.5613 - val_loss: 1.1274 - val_accuracy: 0.5844\n",
      "Epoch 4/30\n",
      "1302/1302 [==============================] - 2058s 2s/step - loss: 1.1423 - accuracy: 0.5963 - val_loss: 1.0797 - val_accuracy: 0.6084\n",
      "Epoch 5/30\n",
      "1302/1302 [==============================] - 2076s 2s/step - loss: 1.0827 - accuracy: 0.6219 - val_loss: 1.0489 - val_accuracy: 0.6226\n",
      "Epoch 6/30\n",
      "1302/1302 [==============================] - 2120s 2s/step - loss: 1.0454 - accuracy: 0.6413 - val_loss: 1.0236 - val_accuracy: 0.6340\n",
      "Epoch 7/30\n",
      "1302/1302 [==============================] - 2298s 2s/step - loss: 1.0179 - accuracy: 0.6556 - val_loss: 1.0115 - val_accuracy: 0.6426\n",
      "Epoch 8/30\n",
      "1302/1302 [==============================] - 1961s 2s/step - loss: 0.9963 - accuracy: 0.6677 - val_loss: 1.0091 - val_accuracy: 0.6456\n",
      "Epoch 9/30\n",
      "1302/1302 [==============================] - 1342s 1s/step - loss: 0.9778 - accuracy: 0.6781 - val_loss: 1.0077 - val_accuracy: 0.6488\n",
      "Epoch 10/30\n",
      "1302/1302 [==============================] - 1275s 979ms/step - loss: 0.9608 - accuracy: 0.6861 - val_loss: 1.0074 - val_accuracy: 0.6511\n",
      "Epoch 11/30\n",
      "1302/1302 [==============================] - 1288s 990ms/step - loss: 0.9452 - accuracy: 0.6942 - val_loss: 1.0045 - val_accuracy: 0.6530\n",
      "Epoch 12/30\n",
      "1302/1302 [==============================] - 1251s 961ms/step - loss: 0.9328 - accuracy: 0.7004 - val_loss: 1.0056 - val_accuracy: 0.6513\n",
      "Epoch 13/30\n",
      "1302/1302 [==============================] - 1317s 1s/step - loss: 0.9182 - accuracy: 0.7067 - val_loss: 1.0122 - val_accuracy: 0.6524\n",
      "Epoch 14/30\n",
      "1302/1302 [==============================] - 2539s 2s/step - loss: 0.9058 - accuracy: 0.7124 - val_loss: 1.0075 - val_accuracy: 0.6562\n",
      "Epoch 15/30\n",
      "1302/1302 [==============================] - 1573s 1s/step - loss: 0.8921 - accuracy: 0.7175 - val_loss: 1.0062 - val_accuracy: 0.6567\n",
      "Epoch 16/30\n",
      "1302/1302 [==============================] - 1538s 1s/step - loss: 0.8823 - accuracy: 0.7219 - val_loss: 1.0130 - val_accuracy: 0.6586\n"
     ]
    },
    {
     "data": {
      "text/plain": "<tensorflow.python.keras.callbacks.History at 0x7f238d3b2be0>"
     },
     "execution_count": 12,
     "metadata": {},
     "output_type": "execute_result"
    }
   ],
   "source": [
    "transformer.compile(\n",
    "    optimizer=\"rmsprop\",\n",
    "    loss=\"sparse_categorical_crossentropy\",\n",
    "    metrics=[\"accuracy\"])\n",
    "transformer.fit(train_ds, epochs=30, validation_data=val_ds, callbacks=callbacks)"
   ],
   "metadata": {
    "collapsed": false,
    "ExecuteTime": {
     "end_time": "2023-05-20T14:07:38.916556277Z",
     "start_time": "2023-05-20T06:33:43.438191834Z"
    }
   }
  },
  {
   "cell_type": "code",
   "execution_count": 13,
   "outputs": [],
   "source": [
    "transformer.save(\"sequence-to-sequence/transformer_best.keras\")\n",
    "transformer.save_weights(\"sequence-to-sequence/weights/transformer_best_weights\")"
   ],
   "metadata": {
    "collapsed": false,
    "ExecuteTime": {
     "end_time": "2023-05-20T14:15:52.781736388Z",
     "start_time": "2023-05-20T14:15:51.905303583Z"
    }
   }
  },
  {
   "cell_type": "markdown",
   "source": [
    "## Evaluation"
   ],
   "metadata": {
    "collapsed": false
   }
  },
  {
   "cell_type": "code",
   "execution_count": 25,
   "outputs": [],
   "source": [
    "test_ds = make_dataset(test_pairs)"
   ],
   "metadata": {
    "collapsed": false,
    "ExecuteTime": {
     "end_time": "2023-05-21T07:47:33.936801650Z",
     "start_time": "2023-05-21T07:47:33.665604331Z"
    }
   }
  },
  {
   "cell_type": "code",
   "execution_count": 19,
   "outputs": [],
   "source": [
    "transformer = keras.models.load_model(\n",
    "    \"sequence-to-sequence/transformer_best.keras\",\n",
    "    custom_objects={\"TransformerEncoder\": TransformerEncoder,\n",
    "                    \"PositionalEmbedding\": PositionalEmbedding,\n",
    "                    \"TransformerDecoder\": TransformerDecoder})"
   ],
   "metadata": {
    "collapsed": false,
    "ExecuteTime": {
     "end_time": "2023-05-19T06:59:45.760328002Z",
     "start_time": "2023-05-19T06:59:44.500162006Z"
    }
   }
  },
  {
   "cell_type": "markdown",
   "source": [
    "### Float32"
   ],
   "metadata": {
    "collapsed": false
   }
  },
  {
   "cell_type": "code",
   "execution_count": 26,
   "outputs": [],
   "source": [
    "from tensorflow.keras import backend as k\n",
    "import numpy as np\n",
    "\n",
    "k.set_floatx('float32')"
   ],
   "metadata": {
    "collapsed": false,
    "ExecuteTime": {
     "end_time": "2023-05-21T07:47:35.279622720Z",
     "start_time": "2023-05-21T07:47:35.230392256Z"
    }
   }
  },
  {
   "cell_type": "code",
   "execution_count": 27,
   "outputs": [
    {
     "name": "stdout",
     "output_type": "stream",
     "text": [
      "47/47 [==============================] - 16s 331ms/step - loss: 1.0040 - accuracy: 0.6490\n",
      "Test acc: 0.649\n"
     ]
    }
   ],
   "source": [
    "print(f\"Test acc: {transformer.evaluate(test_ds)[1]:.3f}\")"
   ],
   "metadata": {
    "collapsed": false,
    "ExecuteTime": {
     "end_time": "2023-05-21T07:47:57.750191213Z",
     "start_time": "2023-05-21T07:47:41.346521882Z"
    }
   }
  },
  {
   "cell_type": "markdown",
   "source": [
    "Some translation examples"
   ],
   "metadata": {
    "collapsed": false
   }
  },
  {
   "cell_type": "code",
   "execution_count": 38,
   "outputs": [
    {
     "name": "stdout",
     "output_type": "stream",
     "text": [
      "-\n",
      "I know someone needs to tell Tom about Mary's death. Does it have to be me?\n",
      "[start] sé que alguien necesita saber por la muerte de mary es ser como para ser quien es para mí [end]\n",
      "-\n",
      "Tom became tired of always having to pay the bill every time he went out with Mary.\n",
      "[start] tom se quedó casi siempre para escribir la cuenta cuando se había ido a mary a salir a john [end]\n",
      "-\n",
      "I need to know everything that happened.\n",
      "[start] necesito saber todo lo que pasó [end]\n",
      "-\n",
      "Tom was talking to himself.\n",
      "[start] tom estaba hablando sola [end]\n",
      "-\n",
      "Let's open the window.\n",
      "[start] [UNK] a la ventana [end]\n",
      "-\n",
      "I'm not materialistic.\n",
      "[start] no soy de la [UNK] [end]\n",
      "-\n",
      "Tom is passed out in bed.\n",
      "[start] tom se ha pasado en cama [end]\n",
      "-\n",
      "You had better be ready in case he comes.\n",
      "[start] será mejor que te [UNK] en caso de que vendrá [end]\n",
      "-\n",
      "I know how to cook dinner.\n",
      "[start] yo sé cantar por la cena [end]\n",
      "-\n",
      "We don't have that long.\n",
      "[start] no tenemos mucho tiempo [end]\n",
      "-\n",
      "You'll have to stand on your toes to see.\n",
      "[start] te vas a evitar tus [UNK] de los los estados unidos [end]\n",
      "-\n",
      "Tom says that he wants to be buried here.\n",
      "[start] tom dice que quiere ser [UNK] [end]\n",
      "-\n",
      "Tom asked Mary if she was busy.\n",
      "[start] tom le preguntó a mary si estaba ocupado [end]\n",
      "-\n",
      "How did you come by the money?\n",
      "[start] cómo vino aquí con el dinero [end]\n",
      "-\n",
      "This is bad for business.\n",
      "[start] esto es mal para los [UNK] [end]\n",
      "-\n",
      "I need to know when to come.\n",
      "[start] necesito saber cuándo ven [end]\n",
      "-\n",
      "Get out of my office.\n",
      "[start] [UNK] de mi oficina [end]\n",
      "-\n",
      "Leave the food on the table.\n",
      "[start] [UNK] la comida en la mesa [end]\n",
      "-\n",
      "This bicycle belongs to me.\n",
      "[start] esta bicicleta me da a mí [end]\n",
      "-\n",
      "I want to let my hair down.\n",
      "[start] quiero salir de mi pelo [end]\n"
     ]
    }
   ],
   "source": [
    "spa_vocab = target_vectorization.get_vocabulary()\n",
    "spa_index_lookup = dict(zip(range(len(spa_vocab)), spa_vocab))\n",
    "max_decoded_sentence_length = 20\n",
    "\n",
    "def decode_sequence(input_sentence, model):\n",
    "    tokenized_input_sentence = source_vectorization([input_sentence])\n",
    "    decoded_sentence = \"[start]\"\n",
    "    for i in range(max_decoded_sentence_length):\n",
    "        tokenized_target_sentence = target_vectorization(\n",
    "            [decoded_sentence])[:, :-1]\n",
    "        predictions = model(\n",
    "            [tokenized_input_sentence, tokenized_target_sentence])\n",
    "        sampled_token_index = np.argmax(predictions[0, i, :])\n",
    "        sampled_token = spa_index_lookup[sampled_token_index]\n",
    "        decoded_sentence += \" \" + sampled_token\n",
    "        if sampled_token == \"[end]\":\n",
    "            break\n",
    "    return decoded_sentence\n",
    "\n",
    "test_eng_texts = [pair[0] for pair in test_pairs]\n",
    "for _ in range(20):\n",
    "    input_sentence = random.choice(test_eng_texts)\n",
    "    print(\"-\")\n",
    "    print(input_sentence)\n",
    "    print(decode_sequence(input_sentence, transformer))"
   ],
   "metadata": {
    "collapsed": false,
    "ExecuteTime": {
     "end_time": "2023-05-21T22:17:00.815141497Z",
     "start_time": "2023-05-21T22:16:52.307189602Z"
    }
   }
  },
  {
   "cell_type": "markdown",
   "source": [
    "### Float16"
   ],
   "metadata": {
    "collapsed": false
   }
  },
  {
   "cell_type": "code",
   "execution_count": 28,
   "outputs": [
    {
     "name": "stdout",
     "output_type": "stream",
     "text": [
      "[dtype('float32')]\n"
     ]
    }
   ],
   "source": [
    "k.set_floatx('float16')\n",
    "\n",
    "# Get the original weights\n",
    "ws = transformer.get_weights()\n",
    "print(np.unique([w.dtype for w in transformer.get_weights()]))"
   ],
   "metadata": {
    "collapsed": false,
    "ExecuteTime": {
     "end_time": "2023-05-21T07:48:06.625279200Z",
     "start_time": "2023-05-21T07:48:06.411902759Z"
    }
   }
  },
  {
   "cell_type": "code",
   "execution_count": 29,
   "outputs": [
    {
     "name": "stdout",
     "output_type": "stream",
     "text": [
      "[dtype('float16')]\n"
     ]
    }
   ],
   "source": [
    "# Convert the weights to Posit <16,0> and load a new model\n",
    "wsp = [w.astype(k.floatx()) for w in ws]\n",
    "\n",
    "encoder_inputs = keras.Input(shape=(None,), dtype=\"int64\", name=\"english\")\n",
    "x = PositionalEmbedding(sequence_length, vocab_size, embed_dim)(encoder_inputs)\n",
    "encoder_outputs = TransformerEncoder(embed_dim, dense_dim, num_heads)(x)\n",
    "\n",
    "decoder_inputs = keras.Input(shape=(None,), dtype=\"int64\", name=\"spanish\")\n",
    "x = PositionalEmbedding(sequence_length, vocab_size, embed_dim)(decoder_inputs)\n",
    "x = TransformerDecoder(embed_dim, dense_dim, num_heads)(x, encoder_outputs)\n",
    "x = layers.Dropout(0.5)(x)\n",
    "decoder_outputs = layers.Dense(vocab_size, activation=\"softmax\")(x)\n",
    "model_float16 = keras.Model([encoder_inputs, decoder_inputs], decoder_outputs)\n",
    "model_float16.compile(\n",
    "    optimizer=\"adam\",\n",
    "    loss=\"sparse_categorical_crossentropy\",\n",
    "    metrics=[\"accuracy\"])\n",
    "model_float16.set_weights(wsp)\n",
    "\n",
    "print(np.unique([w.dtype for w in model_float16.get_weights()]))"
   ],
   "metadata": {
    "collapsed": false,
    "ExecuteTime": {
     "end_time": "2023-05-21T07:48:08.657948858Z",
     "start_time": "2023-05-21T07:48:07.798236449Z"
    }
   }
  },
  {
   "cell_type": "code",
   "execution_count": 30,
   "outputs": [
    {
     "name": "stdout",
     "output_type": "stream",
     "text": [
      "47/47 [==============================] - 1977s 42s/step - loss: 1.0156 - accuracy: 0.6489\n",
      "Test acc: 0.649\n"
     ]
    }
   ],
   "source": [
    "print(f\"Test acc: {model_float16.evaluate(test_ds)[1]:.3f}\")"
   ],
   "metadata": {
    "collapsed": false,
    "ExecuteTime": {
     "end_time": "2023-05-21T08:21:07.288483941Z",
     "start_time": "2023-05-21T07:48:10.145489749Z"
    }
   }
  },
  {
   "cell_type": "markdown",
   "source": [
    "### Posit16,0"
   ],
   "metadata": {
    "collapsed": false
   }
  },
  {
   "cell_type": "code",
   "execution_count": 32,
   "outputs": [
    {
     "data": {
      "text/plain": "array([dtype('float32')], dtype=object)"
     },
     "execution_count": 32,
     "metadata": {},
     "output_type": "execute_result"
    }
   ],
   "source": [
    "k.set_floatx('posit160')\n",
    "\n",
    "# Get the original weights\n",
    "ws = transformer.get_weights()\n",
    "np.unique([w.dtype for w in transformer.get_weights()])"
   ],
   "metadata": {
    "collapsed": false,
    "ExecuteTime": {
     "end_time": "2023-05-21T08:21:38.373455198Z",
     "start_time": "2023-05-21T08:21:38.112919458Z"
    }
   }
  },
  {
   "cell_type": "code",
   "execution_count": 33,
   "outputs": [
    {
     "name": "stdout",
     "output_type": "stream",
     "text": [
      "[dtype(posit160)]\n"
     ]
    }
   ],
   "source": [
    "# Convert the weights to Posit <16,0> and load a new model\n",
    "wsp = [w.astype(k.floatx()) for w in ws]\n",
    "\n",
    "encoder_inputs = keras.Input(shape=(None,), dtype=\"int64\", name=\"english\")\n",
    "x = PositionalEmbedding(sequence_length, vocab_size, embed_dim)(encoder_inputs)\n",
    "encoder_outputs = TransformerEncoder(embed_dim, dense_dim, num_heads)(x)\n",
    "\n",
    "decoder_inputs = keras.Input(shape=(None,), dtype=\"int64\", name=\"spanish\")\n",
    "x = PositionalEmbedding(sequence_length, vocab_size, embed_dim)(decoder_inputs)\n",
    "x = TransformerDecoder(embed_dim, dense_dim, num_heads)(x, encoder_outputs)\n",
    "x = layers.Dropout(0.5)(x)\n",
    "decoder_outputs = layers.Dense(vocab_size, activation=\"softmax\")(x)\n",
    "model_posit = keras.Model([encoder_inputs, decoder_inputs], decoder_outputs)\n",
    "model_posit.compile(\n",
    "    optimizer=\"adam\",\n",
    "    loss=\"sparse_categorical_crossentropy\",\n",
    "    metrics=[\"accuracy\"])\n",
    "model_posit.set_weights(wsp)\n",
    "\n",
    "print(np.unique([w.dtype for w in model_posit.get_weights()]))"
   ],
   "metadata": {
    "collapsed": false,
    "ExecuteTime": {
     "end_time": "2023-05-21T08:21:43.023831582Z",
     "start_time": "2023-05-21T08:21:39.990362592Z"
    }
   }
  },
  {
   "cell_type": "code",
   "execution_count": 34,
   "outputs": [
    {
     "name": "stdout",
     "output_type": "stream",
     "text": [
      "47/47 [==============================] - 12255s 261s/step - loss: 1.0093 - accuracy: 0.6514\n",
      "Test acc: 0.651367\n"
     ]
    }
   ],
   "source": [
    "print(f\"Test acc: {model_posit.evaluate(test_ds)[1]}\")"
   ],
   "metadata": {
    "collapsed": false,
    "ExecuteTime": {
     "end_time": "2023-05-21T11:45:59.268738297Z",
     "start_time": "2023-05-21T08:21:44.481785498Z"
    }
   }
  },
  {
   "cell_type": "markdown",
   "source": [
    "## Rouge metric"
   ],
   "metadata": {
    "collapsed": false
   }
  },
  {
   "cell_type": "code",
   "execution_count": 91,
   "outputs": [],
   "source": [
    "from rouge import Rouge\n",
    "\n",
    "def get_translations(model):\n",
    "    references = []\n",
    "    translations = []\n",
    "\n",
    "    for test_pair in test_pairs[:128]:\n",
    "        input_sentence = test_pair[0]\n",
    "        reference_sentence = test_pair[1]\\\n",
    "            .replace(\"[start]\", \"\")\\\n",
    "            .replace(\"[end]\", \"\")\\\n",
    "            .strip()\n",
    "        references.append(reference_sentence)\n",
    "\n",
    "        translated_sentence = decode_sequence(input_sentence, model)\n",
    "        translated_sentence = (\n",
    "            translated_sentence\n",
    "            .replace(\"[start]\", \"\")\n",
    "            .replace(\"[end]\", \"\")\n",
    "            .strip()\n",
    "        )\n",
    "        translations.append(translated_sentence)\n",
    "\n",
    "    return references, translations\n",
    "\n",
    "rouge = Rouge()"
   ],
   "metadata": {
    "collapsed": false,
    "ExecuteTime": {
     "end_time": "2023-05-22T10:05:06.702740071Z",
     "start_time": "2023-05-22T10:05:06.700764842Z"
    }
   }
  },
  {
   "cell_type": "markdown",
   "source": [
    "### Float32"
   ],
   "metadata": {
    "collapsed": false
   }
  },
  {
   "cell_type": "code",
   "execution_count": 92,
   "outputs": [
    {
     "data": {
      "text/plain": "{'rouge-1': {'r': 0.3641561129842379,\n  'p': 0.3821077793734044,\n  'f': 0.36716126583689707},\n 'rouge-2': {'r': 0.1713524756493506,\n  'p': 0.1771422371031746,\n  'f': 0.17248166071547022},\n 'rouge-l': {'r': 0.3546599234099233,\n  'p': 0.3716539103257853,\n  'f': 0.35731017942331067}}"
     },
     "execution_count": 92,
     "metadata": {},
     "output_type": "execute_result"
    }
   ],
   "source": [
    "references, translations = get_translations(transformer)\n",
    "rouge.get_scores(translations, references, avg=True)"
   ],
   "metadata": {
    "collapsed": false,
    "ExecuteTime": {
     "end_time": "2023-05-22T10:05:50.917589917Z",
     "start_time": "2023-05-22T10:05:08.902681149Z"
    }
   }
  },
  {
   "cell_type": "markdown",
   "source": [
    "### Float16"
   ],
   "metadata": {
    "collapsed": false
   }
  },
  {
   "cell_type": "code",
   "execution_count": 93,
   "outputs": [
    {
     "data": {
      "text/plain": "{'rouge-1': {'r': 0.3628540296509046,\n  'p': 0.3799376404845155,\n  'f': 0.36561116666557214},\n 'rouge-2': {'r': 0.1713524756493506,\n  'p': 0.17735925099206346,\n  'f': 0.1725730349848501},\n 'rouge-l': {'r': 0.35335784007659,\n  'p': 0.36939696588134086,\n  'f': 0.35572287787103335}}"
     },
     "execution_count": 93,
     "metadata": {},
     "output_type": "execute_result"
    }
   ],
   "source": [
    "references, translations_float16 = get_translations(model_float16)\n",
    "rouge.get_scores(translations_float16, references, avg=True)"
   ],
   "metadata": {
    "collapsed": false,
    "ExecuteTime": {
     "end_time": "2023-05-22T13:50:06.676952803Z",
     "start_time": "2023-05-22T10:05:59.258343175Z"
    }
   }
  },
  {
   "cell_type": "markdown",
   "source": [
    "### Posit16,0"
   ],
   "metadata": {
    "collapsed": false
   }
  },
  {
   "cell_type": "code",
   "execution_count": 94,
   "outputs": [
    {
     "data": {
      "text/plain": "{'rouge-1': {'r': 0.37016429750804747,\n  'p': 0.3826610238719614,\n  'f': 0.37181635210126407},\n 'rouge-2': {'r': 0.17864414231601725,\n  'p': 0.18357204861111104,\n  'f': 0.17952310076768963},\n 'rouge-l': {'r': 0.36249440663503163,\n  'p': 0.37471211514180264,\n  'f': 0.36403056150297347}}"
     },
     "execution_count": 94,
     "metadata": {},
     "output_type": "execute_result"
    }
   ],
   "source": [
    "references, translations_posit = get_translations(model_posit)\n",
    "rouge.get_scores(translations_posit, references, avg=True)"
   ],
   "metadata": {
    "collapsed": false,
    "ExecuteTime": {
     "end_time": "2023-05-22T14:40:18.359897435Z",
     "start_time": "2023-05-22T13:50:06.686699743Z"
    }
   }
  },
  {
   "cell_type": "markdown",
   "source": [
    "## Input conversion to Posit16,0"
   ],
   "metadata": {
    "collapsed": false
   }
  },
  {
   "cell_type": "code",
   "execution_count": 79,
   "outputs": [
    {
     "name": "stdout",
     "output_type": "stream",
     "text": [
      "({'english': <tf.Tensor: shape=(64, 20), dtype=int64, numpy=\n",
      "array([[   9, 1214,    7, ...,    0,    0,    0],\n",
      "       [  75,   58,    0, ...,    0,    0,    0],\n",
      "       [   6,  781,    4, ...,    0,    0,    0],\n",
      "       ...,\n",
      "       [   3,   64,  544, ...,    0,    0,    0],\n",
      "       [1713,    7, 1095, ...,    0,    0,    0],\n",
      "       [  77,  109,  343, ...,    0,    0,    0]])>, 'spanish': <tf.Tensor: shape=(64, 20), dtype=int64, numpy=\n",
      "array([[   2,   20, 2598, ...,    0,    0,    0],\n",
      "       [   2,  530,    3, ...,    0,    0,    0],\n",
      "       [   2,    8,  520, ...,    0,    0,    0],\n",
      "       ...,\n",
      "       [   2,    7, 2783, ...,    0,    0,    0],\n",
      "       [   2,    1,   18, ...,    0,    0,    0],\n",
      "       [   2,   35, 5253, ...,    0,    0,    0]])>}, <tf.Tensor: shape=(64, 20), dtype=int64, numpy=\n",
      "array([[  20, 2598,   18, ...,    0,    0,    0],\n",
      "       [ 530,    3,    0, ...,    0,    0,    0],\n",
      "       [   8,  520,  122, ...,    0,    0,    0],\n",
      "       ...,\n",
      "       [   7, 2783,   10, ...,    0,    0,    0],\n",
      "       [   1,   18, 1430, ...,    0,    0,    0],\n",
      "       [  35, 5253,   42, ...,    0,    0,    0]])>)\n"
     ]
    }
   ],
   "source": [
    "print(list(test_ds)[0])"
   ],
   "metadata": {
    "collapsed": false,
    "ExecuteTime": {
     "end_time": "2023-05-22T09:06:29.629431085Z",
     "start_time": "2023-05-22T09:06:29.592321161Z"
    }
   }
  },
  {
   "cell_type": "code",
   "execution_count": 80,
   "outputs": [],
   "source": [
    "test_ds_posit = test_ds.map(lambda x, y: ({\"english\": tf.cast(x['english'], tf.posit160), \"spanish\": tf.cast(x['spanish'], tf.posit160)}, tf.cast(y, tf.posit160)))"
   ],
   "metadata": {
    "collapsed": false,
    "ExecuteTime": {
     "end_time": "2023-05-22T09:09:39.129394907Z",
     "start_time": "2023-05-22T09:09:39.068917635Z"
    }
   }
  },
  {
   "cell_type": "code",
   "execution_count": 81,
   "outputs": [
    {
     "name": "stdout",
     "output_type": "stream",
     "text": [
      "({'english': <tf.Tensor: shape=(64, 20), dtype=posit160, numpy=\n",
      "array([[9, 1214, 7, ..., 0, 0, 0],\n",
      "       [75, 58, 0, ..., 0, 0, 0],\n",
      "       [6, 781, 4, ..., 0, 0, 0],\n",
      "       ...,\n",
      "       [3, 64, 544, ..., 0, 0, 0],\n",
      "       [1712, 7, 1094, ..., 0, 0, 0],\n",
      "       [77, 109, 343, ..., 0, 0, 0]], dtype=posit160)>, 'spanish': <tf.Tensor: shape=(64, 20), dtype=posit160, numpy=\n",
      "array([[2, 20, 2596, ..., 0, 0, 0],\n",
      "       [2, 530, 3, ..., 0, 0, 0],\n",
      "       [2, 8, 520, ..., 0, 0, 0],\n",
      "       ...,\n",
      "       [2, 7, 2780, ..., 0, 0, 0],\n",
      "       [2, 1, 18, ..., 0, 0, 0],\n",
      "       [2, 35, 5248, ..., 0, 0, 0]], dtype=posit160)>}, <tf.Tensor: shape=(64, 20), dtype=posit160, numpy=\n",
      "array([[20, 2596, 18, ..., 0, 0, 0],\n",
      "       [530, 3, 0, ..., 0, 0, 0],\n",
      "       [8, 520, 122, ..., 0, 0, 0],\n",
      "       ...,\n",
      "       [7, 2780, 10, ..., 0, 0, 0],\n",
      "       [1, 18, 1430, ..., 0, 0, 0],\n",
      "       [35, 5248, 42, ..., 0, 0, 0]], dtype=posit160)>)\n"
     ]
    }
   ],
   "source": [
    "print(list(test_ds_posit)[0])"
   ],
   "metadata": {
    "collapsed": false,
    "ExecuteTime": {
     "end_time": "2023-05-22T09:09:43.437214179Z",
     "start_time": "2023-05-22T09:09:43.386997743Z"
    }
   }
  },
  {
   "cell_type": "code",
   "execution_count": 82,
   "outputs": [
    {
     "name": "stdout",
     "output_type": "stream",
     "text": [
      "47/47 [==============================] - 15s 288ms/step - loss: 1.1440 - accuracy: 0.6107\n",
      "Test acc: 0.611\n"
     ]
    }
   ],
   "source": [
    "print(f\"Test acc: {transformer.evaluate(test_ds_posit)[1]:.3f}\")"
   ],
   "metadata": {
    "collapsed": false,
    "ExecuteTime": {
     "end_time": "2023-05-22T09:10:04.820735674Z",
     "start_time": "2023-05-22T09:09:50.232734806Z"
    }
   }
  },
  {
   "cell_type": "markdown",
   "source": [
    "## Saving the models"
   ],
   "metadata": {
    "collapsed": false
   }
  },
  {
   "cell_type": "code",
   "execution_count": 90,
   "outputs": [],
   "source": [
    "transformer.save(\"sequence-to-sequence/transformer_best.keras\")\n",
    "model_float16.save(\"sequence-to-sequence/transformer_float16_best.keras\")\n",
    "model_posit.save(\"sequence-to-sequence/transformer_posit_best.keras\")"
   ],
   "metadata": {
    "collapsed": false,
    "ExecuteTime": {
     "end_time": "2023-05-22T10:00:19.339642892Z",
     "start_time": "2023-05-22T10:00:17.893348389Z"
    }
   }
  }
 ],
 "metadata": {
  "kernelspec": {
   "display_name": "Python 3",
   "language": "python",
   "name": "python3"
  },
  "language_info": {
   "codemirror_mode": {
    "name": "ipython",
    "version": 2
   },
   "file_extension": ".py",
   "mimetype": "text/x-python",
   "name": "python",
   "nbconvert_exporter": "python",
   "pygments_lexer": "ipython2",
   "version": "2.7.6"
  }
 },
 "nbformat": 4,
 "nbformat_minor": 0
}
